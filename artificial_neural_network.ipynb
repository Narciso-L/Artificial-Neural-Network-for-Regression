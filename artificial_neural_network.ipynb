{
 "cells": [
  {
   "cell_type": "markdown",
   "metadata": {
    "colab_type": "text",
    "id": "3cbb7fRy-eyr"
   },
   "source": [
    "# Artificial Neural Network"
   ]
  },
  {
   "cell_type": "markdown",
   "metadata": {
    "colab_type": "text",
    "id": "8sNDnxE2-pwE"
   },
   "source": [
    "### Importing the libraries"
   ]
  },
  {
   "cell_type": "code",
   "execution_count": 1,
   "metadata": {
    "colab": {},
    "colab_type": "code",
    "id": "lxChR1Rk-umf"
   },
   "outputs": [],
   "source": [
    "import numpy as np\n",
    "import pandas as pd\n",
    "import tensorflow as tf"
   ]
  },
  {
   "cell_type": "code",
   "execution_count": 2,
   "metadata": {
    "colab": {
     "base_uri": "https://localhost:8080/",
     "height": 34
    },
    "colab_type": "code",
    "id": "uBTqR3nacj0e",
    "outputId": "4c0bd183-e424-429a-9fba-ceb841c06888"
   },
   "outputs": [
    {
     "data": {
      "text/plain": [
       "'2.3.1'"
      ]
     },
     "execution_count": 2,
     "metadata": {},
     "output_type": "execute_result"
    }
   ],
   "source": [
    "tf.__version__"
   ]
  },
  {
   "cell_type": "markdown",
   "metadata": {
    "colab_type": "text",
    "id": "AG3FQEch-yuA"
   },
   "source": [
    "## Part 1 - Data Preprocessing"
   ]
  },
  {
   "cell_type": "markdown",
   "metadata": {
    "colab_type": "text",
    "id": "-4zq8Mza_D9O"
   },
   "source": [
    "### Importing the dataset"
   ]
  },
  {
   "cell_type": "code",
   "execution_count": 4,
   "metadata": {
    "colab": {},
    "colab_type": "code",
    "id": "B9CV13Co_HHM"
   },
   "outputs": [],
   "source": [
    "dataset = pd.read_excel('Folds5x2_pp.xlsx')\n",
    "X = dataset.iloc[:, :-1].values\n",
    "y = dataset.iloc[:, -1].values"
   ]
  },
  {
   "cell_type": "markdown",
   "metadata": {
    "colab_type": "text",
    "id": "VC6omXel_Up0"
   },
   "source": [
    "### Splitting the dataset into the Training set and Test set"
   ]
  },
  {
   "cell_type": "code",
   "execution_count": 5,
   "metadata": {
    "colab": {},
    "colab_type": "code",
    "id": "L5edeb2r_agx"
   },
   "outputs": [],
   "source": [
    "from sklearn.model_selection import train_test_split\n",
    "X_train, X_test, y_train, y_test = train_test_split(X, y, test_size = 0.2, random_state = 0)"
   ]
  },
  {
   "cell_type": "markdown",
   "metadata": {
    "colab_type": "text",
    "id": "_mSLlAT9_eyI"
   },
   "source": [
    "## Part 2 - Building the ANN"
   ]
  },
  {
   "cell_type": "markdown",
   "metadata": {
    "colab_type": "text",
    "id": "CsBULd_f_wLY"
   },
   "source": [
    "### Initializing the ANN"
   ]
  },
  {
   "cell_type": "code",
   "execution_count": 6,
   "metadata": {
    "colab": {},
    "colab_type": "code",
    "id": "J6Hd97Ls__Nz"
   },
   "outputs": [],
   "source": [
    "ann = tf.keras.models.Sequential()"
   ]
  },
  {
   "cell_type": "markdown",
   "metadata": {
    "colab_type": "text",
    "id": "iitAFJS_ABUn"
   },
   "source": [
    "### Adding the input layer and the first hidden layer"
   ]
  },
  {
   "cell_type": "code",
   "execution_count": 7,
   "metadata": {
    "colab": {},
    "colab_type": "code",
    "id": "ksO_Vv40AHix"
   },
   "outputs": [],
   "source": [
    "ann.add(tf.keras.layers.Dense(units=6, activation='relu'))"
   ]
  },
  {
   "cell_type": "markdown",
   "metadata": {
    "colab_type": "text",
    "id": "-lb4kK_wAKbs"
   },
   "source": [
    "### Adding the second hidden layer"
   ]
  },
  {
   "cell_type": "code",
   "execution_count": 8,
   "metadata": {
    "colab": {},
    "colab_type": "code",
    "id": "c2357OqEAQOQ"
   },
   "outputs": [],
   "source": [
    "ann.add(tf.keras.layers.Dense(units=6, activation='relu'))"
   ]
  },
  {
   "cell_type": "markdown",
   "metadata": {
    "colab_type": "text",
    "id": "jwMOmKb3AdBY"
   },
   "source": [
    "### Adding the output layer"
   ]
  },
  {
   "cell_type": "code",
   "execution_count": 9,
   "metadata": {
    "colab": {},
    "colab_type": "code",
    "id": "YFATpzsUAkLL"
   },
   "outputs": [],
   "source": [
    "ann.add(tf.keras.layers.Dense(units=1))"
   ]
  },
  {
   "cell_type": "markdown",
   "metadata": {
    "colab_type": "text",
    "id": "fq7e4fF6A1yy"
   },
   "source": [
    "## Part 3 - Training the ANN"
   ]
  },
  {
   "cell_type": "markdown",
   "metadata": {
    "colab_type": "text",
    "id": "qDeylAs2An25"
   },
   "source": [
    "### Compiling the ANN"
   ]
  },
  {
   "cell_type": "code",
   "execution_count": 10,
   "metadata": {
    "colab": {},
    "colab_type": "code",
    "id": "pesgbWlCAtB4"
   },
   "outputs": [],
   "source": [
    "ann.compile(optimizer = 'adam', loss = 'mean_squared_error')"
   ]
  },
  {
   "cell_type": "markdown",
   "metadata": {
    "colab_type": "text",
    "id": "YjVuiybYOo7r"
   },
   "source": [
    "### Training the ANN model on the Training set"
   ]
  },
  {
   "cell_type": "code",
   "execution_count": 11,
   "metadata": {
    "colab": {
     "base_uri": "https://localhost:8080/",
     "height": 1000
    },
    "colab_type": "code",
    "id": "c_vV-tiiA5zn",
    "outputId": "4a2b6ee6-ed75-4698-9069-b250e613803f"
   },
   "outputs": [
    {
     "name": "stdout",
     "output_type": "stream",
     "text": [
      "Epoch 1/100\n",
      "240/240 [==============================] - 0s 482us/step - loss: 237.5046\n",
      "Epoch 2/100\n",
      "240/240 [==============================] - 0s 434us/step - loss: 161.3307\n",
      "Epoch 3/100\n",
      "240/240 [==============================] - 0s 448us/step - loss: 131.8609\n",
      "Epoch 4/100\n",
      "240/240 [==============================] - 0s 441us/step - loss: 106.8341\n",
      "Epoch 5/100\n",
      "240/240 [==============================] - 0s 448us/step - loss: 90.3063\n",
      "Epoch 6/100\n",
      "240/240 [==============================] - 0s 436us/step - loss: 75.7325\n",
      "Epoch 7/100\n",
      "240/240 [==============================] - 0s 435us/step - loss: 66.2722\n",
      "Epoch 8/100\n",
      "240/240 [==============================] - 0s 442us/step - loss: 58.6508\n",
      "Epoch 9/100\n",
      "240/240 [==============================] - 0s 446us/step - loss: 53.8089\n",
      "Epoch 10/100\n",
      "240/240 [==============================] - 0s 443us/step - loss: 49.0543\n",
      "Epoch 11/100\n",
      "240/240 [==============================] - 0s 501us/step - loss: 46.1621\n",
      "Epoch 12/100\n",
      "240/240 [==============================] - 0s 474us/step - loss: 44.0524\n",
      "Epoch 13/100\n",
      "240/240 [==============================] - 0s 460us/step - loss: 41.1772\n",
      "Epoch 14/100\n",
      "240/240 [==============================] - 0s 447us/step - loss: 39.8893\n",
      "Epoch 15/100\n",
      "240/240 [==============================] - 0s 414us/step - loss: 38.6364\n",
      "Epoch 16/100\n",
      "240/240 [==============================] - 0s 477us/step - loss: 37.2317\n",
      "Epoch 17/100\n",
      "240/240 [==============================] - 0s 482us/step - loss: 35.6006\n",
      "Epoch 18/100\n",
      "240/240 [==============================] - 0s 449us/step - loss: 34.6827\n",
      "Epoch 19/100\n",
      "240/240 [==============================] - 0s 474us/step - loss: 33.8335\n",
      "Epoch 20/100\n",
      "240/240 [==============================] - 0s 536us/step - loss: 33.1943\n",
      "Epoch 21/100\n",
      "240/240 [==============================] - 0s 465us/step - loss: 32.0802\n",
      "Epoch 22/100\n",
      "240/240 [==============================] - 0s 466us/step - loss: 31.2431\n",
      "Epoch 23/100\n",
      "240/240 [==============================] - 0s 433us/step - loss: 30.9083\n",
      "Epoch 24/100\n",
      "240/240 [==============================] - 0s 462us/step - loss: 30.3215\n",
      "Epoch 25/100\n",
      "240/240 [==============================] - 0s 431us/step - loss: 29.7065\n",
      "Epoch 26/100\n",
      "240/240 [==============================] - 0s 457us/step - loss: 29.2752\n",
      "Epoch 27/100\n",
      "240/240 [==============================] - 0s 428us/step - loss: 29.4310\n",
      "Epoch 28/100\n",
      "240/240 [==============================] - 0s 438us/step - loss: 28.8408\n",
      "Epoch 29/100\n",
      "240/240 [==============================] - 0s 459us/step - loss: 28.6081\n",
      "Epoch 30/100\n",
      "240/240 [==============================] - 0s 453us/step - loss: 27.7215\n",
      "Epoch 31/100\n",
      "240/240 [==============================] - 0s 444us/step - loss: 28.1621\n",
      "Epoch 32/100\n",
      "240/240 [==============================] - 0s 481us/step - loss: 28.1760\n",
      "Epoch 33/100\n",
      "240/240 [==============================] - 0s 436us/step - loss: 28.2987\n",
      "Epoch 34/100\n",
      "240/240 [==============================] - 0s 436us/step - loss: 27.9439\n",
      "Epoch 35/100\n",
      "240/240 [==============================] - 0s 471us/step - loss: 27.1263\n",
      "Epoch 36/100\n",
      "240/240 [==============================] - 0s 436us/step - loss: 27.3253\n",
      "Epoch 37/100\n",
      "240/240 [==============================] - 0s 441us/step - loss: 27.4562\n",
      "Epoch 38/100\n",
      "240/240 [==============================] - 0s 432us/step - loss: 27.0905\n",
      "Epoch 39/100\n",
      "240/240 [==============================] - 0s 437us/step - loss: 27.1467\n",
      "Epoch 40/100\n",
      "240/240 [==============================] - 0s 465us/step - loss: 27.7478\n",
      "Epoch 41/100\n",
      "240/240 [==============================] - 0s 459us/step - loss: 27.0407\n",
      "Epoch 42/100\n",
      "240/240 [==============================] - 0s 435us/step - loss: 26.8820\n",
      "Epoch 43/100\n",
      "240/240 [==============================] - 0s 456us/step - loss: 26.9800\n",
      "Epoch 44/100\n",
      "240/240 [==============================] - 0s 446us/step - loss: 27.3965\n",
      "Epoch 45/100\n",
      "240/240 [==============================] - 0s 439us/step - loss: 26.8315\n",
      "Epoch 46/100\n",
      "240/240 [==============================] - 0s 435us/step - loss: 27.4602\n",
      "Epoch 47/100\n",
      "240/240 [==============================] - 0s 458us/step - loss: 27.2466\n",
      "Epoch 48/100\n",
      "240/240 [==============================] - 0s 438us/step - loss: 27.0346\n",
      "Epoch 49/100\n",
      "240/240 [==============================] - 0s 433us/step - loss: 27.1604\n",
      "Epoch 50/100\n",
      "240/240 [==============================] - 0s 443us/step - loss: 27.5474\n",
      "Epoch 51/100\n",
      "240/240 [==============================] - 0s 435us/step - loss: 27.4312\n",
      "Epoch 52/100\n",
      "240/240 [==============================] - 0s 452us/step - loss: 27.2304\n",
      "Epoch 53/100\n",
      "240/240 [==============================] - 0s 452us/step - loss: 26.7350\n",
      "Epoch 54/100\n",
      "240/240 [==============================] - 0s 449us/step - loss: 27.7627\n",
      "Epoch 55/100\n",
      "240/240 [==============================] - 0s 460us/step - loss: 27.7585\n",
      "Epoch 56/100\n",
      "240/240 [==============================] - 0s 434us/step - loss: 26.9126\n",
      "Epoch 57/100\n",
      "240/240 [==============================] - 0s 415us/step - loss: 26.8329\n",
      "Epoch 58/100\n",
      "240/240 [==============================] - 0s 491us/step - loss: 27.3391\n",
      "Epoch 59/100\n",
      "240/240 [==============================] - 0s 439us/step - loss: 26.7194\n",
      "Epoch 60/100\n",
      "240/240 [==============================] - 0s 422us/step - loss: 26.4420\n",
      "Epoch 61/100\n",
      "240/240 [==============================] - 0s 424us/step - loss: 26.9112\n",
      "Epoch 62/100\n",
      "240/240 [==============================] - 0s 436us/step - loss: 27.1343\n",
      "Epoch 63/100\n",
      "240/240 [==============================] - 0s 452us/step - loss: 26.7450\n",
      "Epoch 64/100\n",
      "240/240 [==============================] - 0s 422us/step - loss: 26.5850\n",
      "Epoch 65/100\n",
      "240/240 [==============================] - 0s 441us/step - loss: 26.6941\n",
      "Epoch 66/100\n",
      "240/240 [==============================] - 0s 426us/step - loss: 27.3683\n",
      "Epoch 67/100\n",
      "240/240 [==============================] - 0s 424us/step - loss: 27.8889\n",
      "Epoch 68/100\n",
      "240/240 [==============================] - 0s 434us/step - loss: 26.9597\n",
      "Epoch 69/100\n",
      "240/240 [==============================] - 0s 417us/step - loss: 26.8893\n",
      "Epoch 70/100\n",
      "240/240 [==============================] - 0s 429us/step - loss: 27.2331\n",
      "Epoch 71/100\n",
      "240/240 [==============================] - 0s 430us/step - loss: 26.8276\n",
      "Epoch 72/100\n",
      "240/240 [==============================] - 0s 462us/step - loss: 27.0689\n",
      "Epoch 73/100\n",
      "240/240 [==============================] - 0s 430us/step - loss: 26.5354\n",
      "Epoch 74/100\n",
      "240/240 [==============================] - 0s 437us/step - loss: 26.6489\n",
      "Epoch 75/100\n",
      "240/240 [==============================] - 0s 424us/step - loss: 26.9607\n",
      "Epoch 76/100\n",
      "240/240 [==============================] - 0s 447us/step - loss: 26.8700\n",
      "Epoch 77/100\n",
      "240/240 [==============================] - 0s 435us/step - loss: 27.5893\n",
      "Epoch 78/100\n",
      "240/240 [==============================] - 0s 435us/step - loss: 27.0746\n",
      "Epoch 79/100\n",
      "240/240 [==============================] - 0s 436us/step - loss: 28.0701\n",
      "Epoch 80/100\n",
      "240/240 [==============================] - 0s 420us/step - loss: 26.8826\n",
      "Epoch 81/100\n",
      "240/240 [==============================] - 0s 447us/step - loss: 27.2302\n",
      "Epoch 82/100\n",
      "240/240 [==============================] - 0s 437us/step - loss: 28.1387\n",
      "Epoch 83/100\n",
      "240/240 [==============================] - 0s 418us/step - loss: 27.0899\n",
      "Epoch 84/100\n",
      "240/240 [==============================] - 0s 447us/step - loss: 27.5550\n",
      "Epoch 85/100\n",
      "240/240 [==============================] - 0s 416us/step - loss: 27.5102\n",
      "Epoch 86/100\n",
      "240/240 [==============================] - 0s 424us/step - loss: 26.8488\n",
      "Epoch 87/100\n",
      "240/240 [==============================] - 0s 427us/step - loss: 26.7237\n",
      "Epoch 88/100\n",
      "240/240 [==============================] - 0s 442us/step - loss: 27.1448\n",
      "Epoch 89/100\n",
      "240/240 [==============================] - 0s 434us/step - loss: 26.7519\n",
      "Epoch 90/100\n",
      "240/240 [==============================] - 0s 440us/step - loss: 26.8304\n",
      "Epoch 91/100\n",
      "240/240 [==============================] - 0s 428us/step - loss: 26.6446\n",
      "Epoch 92/100\n",
      "240/240 [==============================] - 0s 424us/step - loss: 26.5274\n",
      "Epoch 93/100\n",
      "240/240 [==============================] - 0s 414us/step - loss: 26.8469\n",
      "Epoch 94/100\n",
      "240/240 [==============================] - 0s 435us/step - loss: 27.0103\n",
      "Epoch 95/100\n",
      "240/240 [==============================] - 0s 428us/step - loss: 26.8546\n",
      "Epoch 96/100\n"
     ]
    },
    {
     "name": "stdout",
     "output_type": "stream",
     "text": [
      "240/240 [==============================] - 0s 442us/step - loss: 26.5952\n",
      "Epoch 97/100\n",
      "240/240 [==============================] - 0s 427us/step - loss: 26.9980\n",
      "Epoch 98/100\n",
      "240/240 [==============================] - 0s 415us/step - loss: 27.6498\n",
      "Epoch 99/100\n",
      "240/240 [==============================] - 0s 399us/step - loss: 26.8695\n",
      "Epoch 100/100\n",
      "240/240 [==============================] - 0s 399us/step - loss: 26.7748\n"
     ]
    },
    {
     "data": {
      "text/plain": [
       "<tensorflow.python.keras.callbacks.History at 0x18a53d8fee0>"
      ]
     },
     "execution_count": 11,
     "metadata": {},
     "output_type": "execute_result"
    }
   ],
   "source": [
    "ann.fit(X_train, y_train, batch_size = 32, epochs = 100)"
   ]
  },
  {
   "cell_type": "markdown",
   "metadata": {
    "colab_type": "text",
    "id": "0H0zKKNEBLD5"
   },
   "source": [
    "### Predicting the results of the Test set"
   ]
  },
  {
   "cell_type": "code",
   "execution_count": 12,
   "metadata": {
    "colab": {
     "base_uri": "https://localhost:8080/",
     "height": 134
    },
    "colab_type": "code",
    "id": "IA0yApEmBG1X",
    "outputId": "cb981e1f-9204-4a2a-fece-9d66a6919189"
   },
   "outputs": [
    {
     "name": "stdout",
     "output_type": "stream",
     "text": [
      "[[431.54 431.23]\n",
      " [462.63 460.01]\n",
      " [466.15 461.14]\n",
      " ...\n",
      " [473.38 473.26]\n",
      " [440.14 438.  ]\n",
      " [459.37 463.28]]\n"
     ]
    }
   ],
   "source": [
    "y_pred = ann.predict(X_test)\n",
    "np.set_printoptions(precision=2)\n",
    "print(np.concatenate((y_pred.reshape(len(y_pred),1), y_test.reshape(len(y_test),1)),1))"
   ]
  },
  {
   "cell_type": "code",
   "execution_count": null,
   "metadata": {},
   "outputs": [],
   "source": []
  }
 ],
 "metadata": {
  "colab": {
   "collapsed_sections": [],
   "name": "Artificial Neural Network",
   "provenance": [],
   "toc_visible": true
  },
  "kernelspec": {
   "display_name": "Python 3",
   "language": "python",
   "name": "python3"
  },
  "language_info": {
   "codemirror_mode": {
    "name": "ipython",
    "version": 3
   },
   "file_extension": ".py",
   "mimetype": "text/x-python",
   "name": "python",
   "nbconvert_exporter": "python",
   "pygments_lexer": "ipython3",
   "version": "3.8.3"
  }
 },
 "nbformat": 4,
 "nbformat_minor": 1
}
